{
 "cells": [
  {
   "cell_type": "code",
   "execution_count": null,
   "id": "0044652d",
   "metadata": {
    "deletable": false,
    "editable": false
   },
   "outputs": [],
   "source": [
    "# Initialize Otter\n",
    "import otter\n",
    "grader = otter.Notebook(\"hw9.ipynb\")"
   ]
  },
  {
   "cell_type": "markdown",
   "id": "6d00680e",
   "metadata": {},
   "source": [
    "# Homework 9: Predictive Modelling and Model Comparision"
   ]
  },
  {
   "cell_type": "markdown",
   "id": "01c35cf4",
   "metadata": {},
   "source": [
    "Name:\n",
    "\n",
    "Student ID:\n",
    "\n",
    "Collaborators:\n"
   ]
  },
  {
   "cell_type": "markdown",
   "id": "b6fad084",
   "metadata": {},
   "source": [
    "## Instructions\n",
    "\n",
    "This is the final homework/Project, which is about Understanding Data Profiling, Feature Engineering, Feature Selection, Model Comparision & Selection as a _final project_ for our 217a class.\n",
    "\n",
    "We will be using the techniques and approaches introduced throughout the course focusing mainly towards the second half of the semester:\n",
    "\n",
    "* [M0] Python for DS\n",
    "* [M1] The DS and ML Workflows\n",
    "* [M2] Exploratory Data Analsyis\n",
    "* **[M3] Linear Regression (if applicable - depends on problem/dataset)**\n",
    "* **[M4] Linear Classification (if applicable - depends on problem/dataset)**\n",
    "* [M5] Sentiment Analysis (if applicable - depends on problem/dataset)\n",
    "* [M6] Learning Principles and Ethical Thinking for DS\n",
    "* **[M7] Clustering K-Means (if applicable - depends on problem/dataset)** \n",
    "* **[M8] Similarity-based Learning K-NN (if applicable - depends on problem/dataset)**\n",
    "* **[M9] More Models (Decision Tree, Random Forest, Neural Network) for Feature Engineering & Model Comparision & Selection**\n",
    "* **[M10] Creating & Managing Model pipeline for ML workflow**\n",
    "\n",
    "The main focus of this project is majorly on the last modules [M3]-[M10]. In particular, it will be helpful to review **Lab 3 & hw 3 onwards for more clarification**.\n",
    "Most of the things you will do in this final project are explained in `Lab9` and `Lab 10`. Then, review the other labs and hws to recap the general workflow of our DS approaches to the various problems we have worked on so far. This will help you to be prepared for all the steps in this project, so that you do not miss anything. \n",
    "\n",
    "In gernal, you should feel free to import any package that we have previously used in class. Ensure that all plots have the necessary components that a plot should have (e.g. axes labels, a title, a legend).\n",
    "\n",
    "Additionally, note that this assignment is more like a project than a typical homework and it will have a slightly different structure than the hws in the past. One of the reasons why Jupyter Notebooks are so popular in the field is because you can really treat them like notebooks to explain your findings as you discover them. In this assignment, we provide some **Problem** stubs following the DS workflow and you will need to fill in the analysis and structure as you go.\n",
    "\n",
    "Furthermore, in addition to recording your collaborators on this homework, please also remember to cite/indicate all external sources used when finishing this assignment. This includes peers, TAs, and links to online sources. \n",
    "\n",
    "Frequently **save** your notebook!"
   ]
  },
  {
   "cell_type": "markdown",
   "id": "03fa7925",
   "metadata": {},
   "source": [
    "### Collaborators and Sources\n",
    "Furthermore, in addition to recording your **collaborators** on this homework, please also remember to **cite/indicate all external sources** used when finishing this assignment. \n",
    "> This includes peers, TAs, and links to online sources. \n",
    "\n",
    "Note that these citations will not free you from your obligation to submit your _own_ code and write-ups, however, they will be taken into account during the grading and regrading process."
   ]
  },
  {
   "cell_type": "code",
   "execution_count": null,
   "id": "2b483dd5",
   "metadata": {},
   "outputs": [],
   "source": [
    "# collaborators and sources:\n",
    "# Albert Einstein and Marie Curie\n",
    "# https://developers.google.com/edu/python/strings\n",
    "\n",
    "# your code here\n",
    "answer = 'my answer'"
   ]
  },
  {
   "cell_type": "markdown",
   "id": "37be1bf3",
   "metadata": {},
   "source": [
    "### Submission instructions\n",
    "* Submit this Python notebook, including your answers in the code cells as homework submission.\n",
    "* **Feel free to add as many cells as you need to** — just make sure you don't change what we gave you. \n",
    "* **Does it spark joy?** Note that you will be partially graded on the presentation (_cleanliness, clarity, comments_) of your notebook so make sure you [Marie Kondo](https://lifehacker.com/marie-kondo-is-not-a-verb-1833373654) your notebook before submitting it."
   ]
  },
  {
   "cell_type": "markdown",
   "id": "59a1d6a5",
   "metadata": {},
   "source": [
    "<!-- BEGIN QUESTION -->\n",
    "\n",
    "## 1. Introduction\n",
    "\n",
    "For our final project this semester, we'll take a look at data for California Housing Price Prediction\n",
    "https://www.kaggle.com/subashdump/california-housing-price-prediction/data \n",
    "\n",
    "\n",
    "As you have seen throughout the semseter we have learned various techniques to solve a problem task (Classification, Regression, Clustering etc.) starting from problem formulation to EDA to model building to model evaluation and performing feaure engineering and selection in order to improve the model's performance.\n",
    "You will be combining all the knowledge learned so far in this final project. You will be making assuptions and decisions on your own with appropriate justifications in writeups about how to improve the prediction model using all the tools and techniques learned so far and provide the best model at the end.\n",
    "\n",
    "\n",
    "The project aims at building a model of housing prices to predict median house values in California using the provided dataset. This model should learn from the data and be able to predict the median housing price in any district, given all the other metrics.\n",
    "\n",
    "Our goal will be to use this dataset to gain some insight about characteristics of different features.\n",
    "We will be using data profiling from pandas and create models (hopefully more than 3) and complare them to find out which model performed the best and probably explain why it is the best model among all in this data.\n"
   ]
  },
  {
   "cell_type": "code",
   "execution_count": null,
   "id": "f8a5feba",
   "metadata": {},
   "outputs": [],
   "source": [
    "# this one is free!"
   ]
  },
  {
   "cell_type": "markdown",
   "id": "edc4354f",
   "metadata": {},
   "source": [
    "### Problem 1.1\n",
    "\n",
    "Download the data and load it in this notebook for further processing and analysis.\n",
    "\n",
    "**Write-up!** Describe the data, answering questions including, but not limited to, these: Where does the data come from? How was it obtained? How many examples and features does the dataset have? What kinds of features are in the dataset? What values can these features take? what kind of relationship you would explore in this dataset and on what features? \n",
    "> **Hint**: Consider the steps of EDA; what would you like to know about this dataset. "
   ]
  },
  {
   "cell_type": "code",
   "execution_count": null,
   "id": "074cfa3e",
   "metadata": {},
   "outputs": [],
   "source": [
    "# BEGIN SOLUTION\n",
    "\n",
    "\n",
    "\n",
    "# END SOLUTION"
   ]
  },
  {
   "cell_type": "markdown",
   "id": "37db225c",
   "metadata": {},
   "source": [
    "### Problem 1.2\n",
    "### Getting Familiar with the Data\n",
    "\n",
    "Install the pandas data profile dependencies and import them to generate the data report using __df.profile_report__. \n",
    "\n",
    "\n",
    "**Write-up!** What is the Domain/Area of this dataset and what kind of prediction (regression, classification or clustering) we are doing with this dataset and why? Describe the additional insights (if any) you get from generating the pandas data profile report, which you did not observe in the previous EDA steps. Does it change your thinking process or provide any ideas about data pre-processing or processing steps? "
   ]
  },
  {
   "cell_type": "markdown",
   "id": "41cfdefa",
   "metadata": {},
   "source": [
    "**Answer here:** (feel free to make multiple cells!)"
   ]
  },
  {
   "cell_type": "code",
   "execution_count": null,
   "id": "1e3a10c8",
   "metadata": {},
   "outputs": [],
   "source": [
    "# BEGIN SOLUTION\n",
    "\n",
    "\n",
    "\n",
    "# END SOLUTION"
   ]
  },
  {
   "cell_type": "markdown",
   "id": "59bc3a39",
   "metadata": {},
   "source": [
    "### Problem 1.3: Data Description and Pre-processing\n",
    "\n",
    "**Write-up!** What are the major highlights and interesting points in the report generated in the previous cell (or your own EDA process). \n",
    "Describe your insights and thought process regarding those insightful aspects of the data/features/graph/statistics in terms of general relationship among features such as correlation, interaction, cardinality, distribution, missing data, outliers etc.\n"
   ]
  },
  {
   "cell_type": "code",
   "execution_count": null,
   "id": "8e55fb65",
   "metadata": {},
   "outputs": [],
   "source": [
    "# BEGIN SOLUTION\n",
    "\n",
    "\n",
    "\n",
    "# END SOLUTION"
   ]
  },
  {
   "cell_type": "markdown",
   "id": "06ed78c1",
   "metadata": {},
   "source": [
    "**Answer here:** (feel free to make multiple cells!)"
   ]
  },
  {
   "cell_type": "markdown",
   "id": "7d6b5d01",
   "metadata": {},
   "source": [
    "### Problem 1.4: Split the Data (you will be using the same data split (train-validation-test) for all the models in the following questions )\n",
    "\n",
    "Extract input (X) and output (y) data from the dataset. \n",
    "\n",
    "Use the train and test split and k-fold cross validation (use 5 fold cross validation) from the scikit learn library to split the data into 80% training and 20% testing.\n",
    "\n",
    "**NOTE** Remember that you will be using the same cross validation and train test splits values for all the predictive modeling part (Problem 3) for the fair comparision at the end. "
   ]
  },
  {
   "cell_type": "markdown",
   "id": "bb547016",
   "metadata": {},
   "source": [
    "**Write-up!** Why 80% train and 20% test split is considered a good practice? How would you pick the train-test split size if the dataset is relatively small or large? What is the purpose of using cross validation technique and how does it ensure model robustness? What is Data snooping and how do you avaoid it?"
   ]
  },
  {
   "cell_type": "markdown",
   "id": "bb8c7e5c",
   "metadata": {},
   "source": [
    "**Answer here:** (feel free to make multiple cells!)"
   ]
  },
  {
   "cell_type": "code",
   "execution_count": null,
   "id": "2ef02b47",
   "metadata": {},
   "outputs": [],
   "source": [
    "# BEGIN SOLUTION\n",
    "\n",
    "\n",
    "\n",
    "# END SOLUTION"
   ]
  },
  {
   "cell_type": "markdown",
   "id": "c2661ba0",
   "metadata": {},
   "source": [
    "### Problem 1.5: Perform Linear Regression\n",
    "\n",
    "Let's create a baseline model here:\n",
    "\n",
    "Perform Linear Regression on training data. Predict the output for the test dataset using the fitted model. Print the root mean squared error (RMSE) and R^2 value from Linear Regression for test data set.\n",
    "\n"
   ]
  },
  {
   "cell_type": "markdown",
   "id": "06482f67",
   "metadata": {},
   "source": [
    "**Write-up!** Why do we use R^2 values when we have other error measures (MAE, MSE, RMSE etc.)?"
   ]
  },
  {
   "cell_type": "markdown",
   "id": "02f23dad",
   "metadata": {},
   "source": [
    "**Answer here:** (feel free to make multiple cells!)"
   ]
  },
  {
   "cell_type": "code",
   "execution_count": null,
   "id": "26ae9fd4",
   "metadata": {},
   "outputs": [],
   "source": [
    "# BEGIN SOLUTION\n",
    "\n",
    "\n",
    "\n",
    "# END SOLUTION"
   ]
  },
  {
   "cell_type": "markdown",
   "id": "492236b2",
   "metadata": {},
   "source": [
    "## 2. Feature Engineering"
   ]
  },
  {
   "cell_type": "markdown",
   "id": "b1103278",
   "metadata": {},
   "source": [
    "### Problem 2.1 \n",
    "\n",
    "Identify features which needs feature engineering after looking at the baseline model's result. Perform Feature Tranformation/Manipulation/Engineering in this step and use this knowledge in predictive modeling part. \n",
    "\n",
    "Apply some feature generation technices in order to make those features more useful for the data such as checking the datatypes, handling missing values, extracting new features from existing ones, encoding some features if categorical, scaling, standardization etc. \n",
    "\n",
    "**Write up!** Explain your reasoning for selecting features and performing those specific feature engineering steps respectively.\n",
    "\n",
    "**Do this!** In the cells below, **explain** and perform the steps that you need to prepare this data for further analysis. Make sure that your implementations and write-ups (for processing and analysis) are presented well and effectively describe your workflow. You may add comments or markdown cells for your documentation as you see fit!  \n",
    "\n",
    "*Grading Note: Your work will be graded for _readability_, _style_, and _cleanlines_. So, carefully document your code and use descriptive/intuitive variable names. For write-ups use consice and clear language like in a written project report.*\n",
    "\n",
    "> **Hint**: You can use our previous labs as examples of how you might do this. \n",
    "Also, you might want to come back to this step later on, since you might encounter problems with the data once you actually analyze it. Remember, you may add as many cells (for code and text) as you need below. Here — we gave you one for free!"
   ]
  },
  {
   "cell_type": "markdown",
   "id": "016bb929",
   "metadata": {},
   "source": [
    "**Answer here:** (feel free to make multiple cells!)"
   ]
  },
  {
   "cell_type": "code",
   "execution_count": null,
   "id": "5cef5776",
   "metadata": {},
   "outputs": [],
   "source": [
    "# BEGIN SOLUTION\n",
    "\n",
    "\n",
    "\n",
    "# END SOLUTION"
   ]
  },
  {
   "cell_type": "markdown",
   "id": "31ebc7cd",
   "metadata": {},
   "source": [
    "\n",
    "### Problem 2.2: Perform Basic Feature Manupilation & Data Transformation\n",
    "\n",
    "1. Be consistent with the feature engineering process in train and test data. No data snooping.\n",
    "2. Handle Missing data: Fill the missing values with the mean of the respective column.\n",
    "3. Encode categorical data: Convert categorical column in the dataset to numerical data.\n",
    "4. Standardize data: Standardize training and test datasets.\n",
    "\n",
    "### Problem 2.3: Perform Feature Engineering (Feature Selection or/and Feature Generation) including but not limited to statistical, ML based, Newly extracted/created features etc. wherever appropriate/applicable in the respective Predictive Modeling part.\n"
   ]
  },
  {
   "cell_type": "code",
   "execution_count": null,
   "id": "722e3263",
   "metadata": {},
   "outputs": [],
   "source": [
    "# BEGIN SOLUTION\n",
    "\n",
    "\n",
    "\n",
    "# END SOLUTION"
   ]
  },
  {
   "cell_type": "markdown",
   "id": "c6f0b2d4",
   "metadata": {},
   "source": [
    "## 3. Predictive Modeling [Using scikit learn pipeline is highly encouraged]\n",
    "\n",
    "https://scikit-learn.org/stable/modules/generated/sklearn.pipeline.Pipeline.html\n",
    "\n",
    "1. Build a model of housing prices to predict median house values in California using the provided dataset.\n",
    "2. Train the model to learn from the data to predict the median housing price in any district, given all the other metrics.\n",
    "3. Predict housing prices based on median_income and plot the regression chart for it.\n",
    "\n",
    "### Problem 3.1 : Perform K-Nearest Neighbors Regression\n",
    "\n",
    "Perform K-Nearest Neighbors Algorithm for Regression on the training data.\n",
    "\n",
    "Predict output for the test dataset using the fitted model.\n",
    "\n",
    "Print root mean squared error (RMSE) and R^2 from K-Nearest Neighbors Regression on the test datset."
   ]
  },
  {
   "cell_type": "markdown",
   "id": "7af55c14",
   "metadata": {},
   "source": [
    "**Write-up!** How K-NN is different than Linear regression model and what additional steps you have to take for KNN Regression?"
   ]
  },
  {
   "cell_type": "markdown",
   "id": "110bd1c9",
   "metadata": {},
   "source": [
    "**Answer here:** (feel free to make multiple cells!)"
   ]
  },
  {
   "cell_type": "code",
   "execution_count": null,
   "id": "064c5881",
   "metadata": {},
   "outputs": [],
   "source": [
    "# BEGIN SOLUTION\n",
    "\n",
    "\n",
    "\n",
    "# END SOLUTION"
   ]
  },
  {
   "cell_type": "markdown",
   "id": "cc2267c2",
   "metadata": {},
   "source": [
    "### Problem 3.2 : Perform Decision Tree Regression \n",
    "Perform Decision Tree Regression on the training data.\n",
    "\n",
    "Predict the output for test dataset using the fitted model.\n",
    "\n",
    "Print root mean squared error (RMSE) and R^2 from Decision Tree Regression on the test dataset."
   ]
  },
  {
   "cell_type": "markdown",
   "id": "557a0dd5",
   "metadata": {},
   "source": [
    "**Write-up!** What are the advantages or disadvantages of using Decision Tree over Linear regression and KNN?"
   ]
  },
  {
   "cell_type": "markdown",
   "id": "f18fff26",
   "metadata": {},
   "source": [
    "**Answer here:** (feel free to make multiple cells!)"
   ]
  },
  {
   "cell_type": "code",
   "execution_count": null,
   "id": "5b12feff",
   "metadata": {},
   "outputs": [],
   "source": [
    "# BEGIN SOLUTION\n",
    "\n",
    "\n",
    "\n",
    "# END SOLUTION"
   ]
  },
  {
   "cell_type": "markdown",
   "id": "f08ca57b",
   "metadata": {},
   "source": [
    "### Problem 3.3 : Perform Random Forest Regression :\n",
    "Perform Random Forest Regression on the training data.\n",
    "\n",
    "Predict the output for test dataset using the fitted model.\n",
    "\n",
    "Print root mean squared error (RMSE) and R^2 from Random Forest Regression on the test dataset."
   ]
  },
  {
   "cell_type": "markdown",
   "id": "b7f27d09",
   "metadata": {},
   "source": [
    "**Write-up!** How Random Forest ensures better results from Decision Tree and Why? "
   ]
  },
  {
   "cell_type": "markdown",
   "id": "04ab7211",
   "metadata": {},
   "source": [
    "**Answer here:** (feel free to make multiple cells!)"
   ]
  },
  {
   "cell_type": "code",
   "execution_count": null,
   "id": "00004427",
   "metadata": {},
   "outputs": [],
   "source": [
    "# BEGIN SOLUTION\n",
    "\n",
    "\n",
    "\n",
    "# END SOLUTION"
   ]
  },
  {
   "cell_type": "markdown",
   "id": "115e342a",
   "metadata": {},
   "source": [
    "### Problem 3.4: Perform Linear Regression with one independent variable\n",
    "\n",
    "Extract just the median_income column from the independent variables (from X_train and X_test).\n",
    "\n",
    "Perform Linear Regression to predict housing values based on median_income.\n",
    "\n",
    "Predict output for test dataset using the fitted model.\n",
    "\n",
    "Plot the fitted model for training data as well as for test data to check if the fitted model satisfies the test data.\n",
    "\n",
    "Compare the results of the baseline model with this model's result."
   ]
  },
  {
   "cell_type": "markdown",
   "id": "3fbcde91",
   "metadata": {},
   "source": [
    "**Write-up!** Why there is a difference in performance (if any!) of problem 1.5 and problem 3.4 model? What kind of feature selection is being applied here and what is the intuition behind it. Describe in your words! "
   ]
  },
  {
   "cell_type": "markdown",
   "id": "d406c8cf",
   "metadata": {},
   "source": [
    "**Answer here:** (feel free to make multiple cells!)"
   ]
  },
  {
   "cell_type": "code",
   "execution_count": null,
   "id": "893cbc68",
   "metadata": {},
   "outputs": [],
   "source": [
    "# BEGIN SOLUTION\n",
    "\n",
    "\n",
    "\n",
    "# END SOLUTION"
   ]
  },
  {
   "cell_type": "markdown",
   "id": "b3a8f1bb",
   "metadata": {},
   "source": [
    "## 4. Model Comparision"
   ]
  },
  {
   "cell_type": "markdown",
   "id": "e9fec082",
   "metadata": {},
   "source": [
    "### Problem 4.1:\n",
    "\n",
    "Compare all the models results and report the lowest accuracy score.\n",
    "\n",
    "Visualize all the final models error using R^2 in a bar graph.\n"
   ]
  },
  {
   "cell_type": "code",
   "execution_count": null,
   "id": "6c4a9ba8",
   "metadata": {},
   "outputs": [],
   "source": [
    "# BEGIN SOLUTION\n",
    "\n",
    "\n",
    "\n",
    "# END SOLUTION"
   ]
  },
  {
   "cell_type": "markdown",
   "id": "87084a5e",
   "metadata": {},
   "source": [
    "### Problem 4.2:\n",
    "\n",
    "Now review the feature enginnering lab (lab 9) and apply one of the feature selection and/or one feature generation method and use it for prediction on the test data. Evaluate and compare the all the models (LR, DT, RF, K-NN) on original features (no feature engineering) with the ones on the engineered features.\n",
    "Then, select the best model after the whole comparision.\n",
    "\n",
    "Visualize the following models with and without feature engineering comparision.\n",
    "1.  Linear Regression Model (LR-all (Problem 1.5) vs LR-1feature (Problem 3.4).\n",
    "2.  KNN (No feature engineering KNN vs Feature engineered KNN)\n",
    "3.  DT (No feature engineering DT vs Feature engineered DT)\n",
    "4.  RF (No feature engineering RF vs Feature engineered RF)\n",
    "\n",
    "Visualize all models with feature enginnering in one graph and compare their R^2.\n",
    "\n",
    "**Write up** Explain which feature selection and/or feature generation method have you selected and why for this dataset."
   ]
  },
  {
   "cell_type": "markdown",
   "id": "71dc7125",
   "metadata": {},
   "source": [
    "**Answer here:** (feel free to make multiple cells!)"
   ]
  },
  {
   "cell_type": "code",
   "execution_count": null,
   "id": "5c2b9582",
   "metadata": {},
   "outputs": [],
   "source": [
    "# BEGIN SOLUTION\n",
    "\n",
    "\n",
    "\n",
    "# END SOLUTION"
   ]
  },
  {
   "cell_type": "markdown",
   "id": "8fc38fb3",
   "metadata": {},
   "source": [
    "\n",
    "**Write up** Summarize your results and provide some crucial insights about the entire with and without feature engineering process such as which model performed the best and why, based on what metrics and indicators, etc. Which feature engireeing step provided more value to the predictive modeling process?\n"
   ]
  },
  {
   "cell_type": "markdown",
   "id": "da13b9db",
   "metadata": {},
   "source": [
    "**Answer here:** (feel free to make multiple cells!)"
   ]
  },
  {
   "cell_type": "code",
   "execution_count": null,
   "id": "f77e0709",
   "metadata": {},
   "outputs": [],
   "source": [
    "# BEGIN SOLUTION\n",
    "\n",
    "# END SOLUTION"
   ]
  },
  {
   "cell_type": "code",
   "execution_count": null,
   "id": "270bd35f",
   "metadata": {
    "deletable": false,
    "editable": false
   },
   "outputs": [],
   "source": [
    "grader.check(\"hw9\")"
   ]
  },
  {
   "cell_type": "markdown",
   "id": "75b06ae2",
   "metadata": {},
   "source": [
    "<!-- END QUESTION -->\n",
    "\n",
    "Note that we have a dummy test here to generate a pdf on Gradescope, but the entire assignment is manually graded. So make sure your notebook communicates your thoughts and process!"
   ]
  },
  {
   "cell_type": "markdown",
   "id": "675b7b1d",
   "metadata": {
    "deletable": false,
    "editable": false
   },
   "source": [
    "---\n",
    "\n",
    "To double-check your work, the cell below will rerun all of the autograder tests."
   ]
  },
  {
   "cell_type": "code",
   "execution_count": null,
   "id": "eb18547f",
   "metadata": {
    "deletable": false,
    "editable": false
   },
   "outputs": [],
   "source": [
    "grader.check_all()"
   ]
  },
  {
   "cell_type": "markdown",
   "id": "f259a52b",
   "metadata": {
    "deletable": false,
    "editable": false
   },
   "source": [
    "## Submission\n",
    "\n",
    "Make sure you have run all cells in your notebook in order before running the cell below, so that all images/graphs appear in the output. The cell below will generate a zip file for you to submit. **Please save before exporting!**"
   ]
  },
  {
   "cell_type": "code",
   "execution_count": null,
   "id": "2c7b96fb",
   "metadata": {
    "deletable": false,
    "editable": false
   },
   "outputs": [],
   "source": [
    "# Save your notebook first, then run this cell to export your submission.\n",
    "grader.export(pdf=False)"
   ]
  },
  {
   "cell_type": "markdown",
   "id": "e5fe9df1",
   "metadata": {},
   "source": [
    " "
   ]
  }
 ],
 "metadata": {
  "kernelspec": {
   "display_name": "Python 3 (ipykernel)",
   "language": "python",
   "name": "python3"
  },
  "language_info": {
   "codemirror_mode": {
    "name": "ipython",
    "version": 3
   },
   "file_extension": ".py",
   "mimetype": "text/x-python",
   "name": "python",
   "nbconvert_exporter": "python",
   "pygments_lexer": "ipython3",
   "version": "3.7.13"
  },
  "otter": {
   "tests": {
    "hw9": {
     "name": "hw9",
     "points": 0,
     "suites": [
      {
       "cases": [
        {
         "code": ">>> True == True\nTrue",
         "hidden": false,
         "locked": false
        }
       ],
       "scored": true,
       "setup": "",
       "teardown": "",
       "type": "doctest"
      }
     ]
    }
   }
  }
 },
 "nbformat": 4,
 "nbformat_minor": 5
}
